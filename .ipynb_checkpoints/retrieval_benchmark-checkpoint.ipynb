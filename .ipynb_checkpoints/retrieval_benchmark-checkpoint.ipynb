{
 "cells": [
  {
   "cell_type": "markdown",
   "id": "e968e247",
   "metadata": {},
   "source": [
    "# Retrieval Benchmark\n",
    "Evaluate Recall@8 on 200 dev samples."
   ]
  },
  {
   "cell_type": "code",
   "execution_count": 2,
   "id": "0ab1778a",
   "metadata": {},
   "outputs": [],
   "source": [
    "try:\n",
    "    import finrag, jsonlines, openai\n",
    "except ImportError as e:\n",
    "    raise RuntimeError(\n",
    "        \"Missing dependencies – activate .venv‑notebook and run pip install -r requirements-notebook.txt\"\n",
    "    ) from e"
   ]
  },
  {
   "cell_type": "code",
   "execution_count": 3,
   "id": "b8f01439",
   "metadata": {},
   "outputs": [],
   "source": [
    "import json\n",
    "import random\n",
    "import sys, os\n",
    "sys.path.insert(0, os.path.abspath('src'))\n",
    "from finrag.chunk_utils import build_candidate_chunks\n",
    "from finrag.retriever import retrieve_evidence\n",
    "from finrag.embeddings import EmbeddingStore\n",
    "import matplotlib.pyplot as plt\n",
    "import seaborn as sns"
   ]
  },
  {
   "cell_type": "code",
   "execution_count": 8,
   "id": "14381bae",
   "metadata": {},
   "outputs": [],
   "source": [
    "# Load 200 random samples (only those with QA)\n",
    "with open('data/dev_turn.json') as f:\n",
    "    raw = json.load(f)\n",
    "# drop any entry missing the 'qa' key\n",
    "data = [entry for entry in raw if 'qa' in entry]\n",
    "\n",
    "random.seed(42)\n",
    "samples = random.sample(data, 200)"
   ]
  },
  {
   "cell_type": "code",
   "execution_count": 9,
   "id": "dfda2527",
   "metadata": {},
   "outputs": [
    {
     "ename": "TooManyRequestsError",
     "evalue": "status_code: 429, body: {'message': \"You are using a Trial key, which is limited to 10 API calls / minute. You can continue to use the Trial key for free or upgrade to a Production key with higher rate limits at 'https://dashboard.cohere.com/api-keys'. Contact us on 'https://discord.gg/XW44jPfYJu' or email us at support@cohere.com with any questions\"}",
     "output_type": "error",
     "traceback": [
      "\u001b[31m---------------------------------------------------------------------------\u001b[39m",
      "\u001b[31mTooManyRequestsError\u001b[39m                      Traceback (most recent call last)",
      "\u001b[36mCell\u001b[39m\u001b[36m \u001b[39m\u001b[32mIn[9]\u001b[39m\u001b[32m, line 9\u001b[39m\n\u001b[32m      7\u001b[39m gold = [\u001b[33m'\u001b[39m\u001b[33mtable:row:\u001b[39m\u001b[33m'\u001b[39m + \u001b[38;5;28mstr\u001b[39m(i) \u001b[38;5;28;01mfor\u001b[39;00m i \u001b[38;5;129;01min\u001b[39;00m sample[\u001b[33m'\u001b[39m\u001b[33mqa\u001b[39m\u001b[33m'\u001b[39m].get(\u001b[33m'\u001b[39m\u001b[33mann_table_rows\u001b[39m\u001b[33m'\u001b[39m, [])] + [\u001b[33m'\u001b[39m\u001b[33mtext:pre:\u001b[39m\u001b[33m'\u001b[39m + \u001b[38;5;28mstr\u001b[39m(i) \u001b[38;5;28;01mfor\u001b[39;00m i \u001b[38;5;129;01min\u001b[39;00m sample[\u001b[33m'\u001b[39m\u001b[33mqa\u001b[39m\u001b[33m'\u001b[39m].get(\u001b[33m'\u001b[39m\u001b[33mann_text_rows\u001b[39m\u001b[33m'\u001b[39m, [])]\n\u001b[32m      8\u001b[39m \u001b[38;5;66;03m# retrieve top 8\u001b[39;00m\n\u001b[32m----> \u001b[39m\u001b[32m9\u001b[39m preds = \u001b[43mretrieve_evidence\u001b[49m\u001b[43m(\u001b[49m\u001b[43msample\u001b[49m\u001b[43m,\u001b[49m\u001b[43m \u001b[49m\u001b[43msample\u001b[49m\u001b[43m[\u001b[49m\u001b[33;43m'\u001b[39;49m\u001b[33;43mqa\u001b[39;49m\u001b[33;43m'\u001b[39;49m\u001b[43m]\u001b[49m\u001b[43m[\u001b[49m\u001b[33;43m'\u001b[39;49m\u001b[33;43mquestion\u001b[39;49m\u001b[33;43m'\u001b[39;49m\u001b[43m]\u001b[49m\u001b[43m,\u001b[49m\u001b[43m \u001b[49m\u001b[43mtop_k\u001b[49m\u001b[43m=\u001b[49m\u001b[32;43m8\u001b[39;49m\u001b[43m)\u001b[49m\n\u001b[32m     10\u001b[39m \u001b[38;5;66;03m# recall@8 per sample\u001b[39;00m\n\u001b[32m     11\u001b[39m \u001b[38;5;28;01mif\u001b[39;00m gold:\n",
      "\u001b[36mFile \u001b[39m\u001b[32m~\\Documents\\admin\\tomoroai\\assignment\\FinRAG\\src\\finrag\\retriever.py:67\u001b[39m, in \u001b[36mretrieve_evidence\u001b[39m\u001b[34m(turn, question, top_k, bm25_k)\u001b[39m\n\u001b[32m     65\u001b[39m docs = [chunk[\u001b[33m\"\u001b[39m\u001b[33mtext\u001b[39m\u001b[33m\"\u001b[39m] \u001b[38;5;28;01mfor\u001b[39;00m chunk \u001b[38;5;129;01min\u001b[39;00m fused_chunks]\n\u001b[32m     66\u001b[39m \u001b[38;5;66;03m# Cohere rerank API: returns results with .index attribute\u001b[39;00m\n\u001b[32m---> \u001b[39m\u001b[32m67\u001b[39m resp = \u001b[43mco\u001b[49m\u001b[43m.\u001b[49m\u001b[43mrerank\u001b[49m\u001b[43m(\u001b[49m\n\u001b[32m     68\u001b[39m \u001b[43m    \u001b[49m\u001b[43mmodel\u001b[49m\u001b[43m=\u001b[49m\u001b[33;43m\"\u001b[39;49m\u001b[33;43mrerank-english-v2.0\u001b[39;49m\u001b[33;43m\"\u001b[39;49m\u001b[43m,\u001b[49m\n\u001b[32m     69\u001b[39m \u001b[43m    \u001b[49m\u001b[43mquery\u001b[49m\u001b[43m=\u001b[49m\u001b[43mquestion\u001b[49m\u001b[43m,\u001b[49m\n\u001b[32m     70\u001b[39m \u001b[43m    \u001b[49m\u001b[43mdocuments\u001b[49m\u001b[43m=\u001b[49m\u001b[43mdocs\u001b[49m\u001b[43m,\u001b[49m\n\u001b[32m     71\u001b[39m \u001b[43m    \u001b[49m\u001b[43mtop_n\u001b[49m\u001b[43m=\u001b[49m\u001b[43mtop_k\u001b[49m\u001b[43m,\u001b[49m\n\u001b[32m     72\u001b[39m \u001b[43m\u001b[49m\u001b[43m)\u001b[49m\n\u001b[32m     73\u001b[39m \u001b[38;5;28;01mreturn\u001b[39;00m [fused_chunks[r.index][\u001b[33m\"\u001b[39m\u001b[33mchunk_id\u001b[39m\u001b[33m\"\u001b[39m] \u001b[38;5;28;01mfor\u001b[39;00m r \u001b[38;5;129;01min\u001b[39;00m resp.results]\n",
      "\u001b[36mFile \u001b[39m\u001b[32m~\\Documents\\admin\\tomoroai\\assignment\\FinRAG\\.venv-notebook\\Lib\\site-packages\\cohere\\base_client.py:2102\u001b[39m, in \u001b[36mBaseCohere.rerank\u001b[39m\u001b[34m(self, query, documents, model, top_n, rank_fields, return_documents, max_chunks_per_doc, request_options)\u001b[39m\n\u001b[32m   2092\u001b[39m     \u001b[38;5;28;01mraise\u001b[39;00m UnprocessableEntityError(\n\u001b[32m   2093\u001b[39m         typing.cast(\n\u001b[32m   2094\u001b[39m             typing.Optional[typing.Any],\n\u001b[32m   (...)\u001b[39m\u001b[32m   2099\u001b[39m         )\n\u001b[32m   2100\u001b[39m     )\n\u001b[32m   2101\u001b[39m \u001b[38;5;28;01mif\u001b[39;00m _response.status_code == \u001b[32m429\u001b[39m:\n\u001b[32m-> \u001b[39m\u001b[32m2102\u001b[39m     \u001b[38;5;28;01mraise\u001b[39;00m TooManyRequestsError(\n\u001b[32m   2103\u001b[39m         typing.cast(\n\u001b[32m   2104\u001b[39m             typing.Optional[typing.Any],\n\u001b[32m   2105\u001b[39m             construct_type(\n\u001b[32m   2106\u001b[39m                 type_=typing.Optional[typing.Any],  \u001b[38;5;66;03m# type: ignore\u001b[39;00m\n\u001b[32m   2107\u001b[39m                 object_=_response.json(),\n\u001b[32m   2108\u001b[39m             ),\n\u001b[32m   2109\u001b[39m         )\n\u001b[32m   2110\u001b[39m     )\n\u001b[32m   2111\u001b[39m \u001b[38;5;28;01mif\u001b[39;00m _response.status_code == \u001b[32m498\u001b[39m:\n\u001b[32m   2112\u001b[39m     \u001b[38;5;28;01mraise\u001b[39;00m InvalidTokenError(\n\u001b[32m   2113\u001b[39m         typing.cast(\n\u001b[32m   2114\u001b[39m             typing.Optional[typing.Any],\n\u001b[32m   (...)\u001b[39m\u001b[32m   2119\u001b[39m         )\n\u001b[32m   2120\u001b[39m     )\n",
      "\u001b[31mTooManyRequestsError\u001b[39m: status_code: 429, body: {'message': \"You are using a Trial key, which is limited to 10 API calls / minute. You can continue to use the Trial key for free or upgrade to a Production key with higher rate limits at 'https://dashboard.cohere.com/api-keys'. Contact us on 'https://discord.gg/XW44jPfYJu' or email us at support@cohere.com with any questions\"}"
     ]
    }
   ],
   "source": [
    "# Run retrieval and compute recall per sample\n",
    "hits = []\n",
    "recalls = []\n",
    "failed_ids = []\n",
    "for sample in samples:\n",
    "    # gold chunk_ids\n",
    "    gold = ['table:row:' + str(i) for i in sample['qa'].get('ann_table_rows', [])] + ['text:pre:' + str(i) for i in sample['qa'].get('ann_text_rows', [])]\n",
    "    # retrieve top 8\n",
    "    preds = retrieve_evidence(sample, sample['qa']['question'], top_k=8)\n",
    "    # recall@8 per sample\n",
    "    if gold:\n",
    "        inter = set(gold) & set(preds)\n",
    "        recall_i = len(inter)/len(gold)\n",
    "        recalls.append(recall_i)\n",
    "        hits.append(1 if inter else 0)\n",
    "        if recall_i == 0:\n",
    "            failed_ids.append(sample['id'])"
   ]
  },
  {
   "cell_type": "code",
   "execution_count": null,
   "id": "ba6255ac",
   "metadata": {},
   "outputs": [],
   "source": [
    "# Total Recall@8\n",
    "print(f'Recall@8: {sum(hits)}/{len(hits)} = {sum(hits)/len(hits):.3f}')"
   ]
  },
  {
   "cell_type": "code",
   "execution_count": null,
   "id": "7fa097e2",
   "metadata": {},
   "outputs": [],
   "source": [
    "# Histogram of per-sample recall\n",
    "sns.histplot(recalls, bins=10)\n",
    "plt.xlabel('Recall per sample')\n",
    "plt.ylabel('Count')\n",
    "plt.title('Recall@8 Distribution')\n",
    "plt.show()"
   ]
  },
  {
   "cell_type": "code",
   "execution_count": null,
   "id": "35e129e6",
   "metadata": {},
   "outputs": [],
   "source": [
    "# List failed sample IDs\n",
    "print('Failed samples:', failed_ids)"
   ]
  }
 ],
 "metadata": {
  "kernelspec": {
   "display_name": "Python 3 (ipykernel)",
   "language": "python",
   "name": "python3"
  },
  "language_info": {
   "codemirror_mode": {
    "name": "ipython",
    "version": 3
   },
   "file_extension": ".py",
   "mimetype": "text/x-python",
   "name": "python",
   "nbconvert_exporter": "python",
   "pygments_lexer": "ipython3",
   "version": "3.13.3"
  }
 },
 "nbformat": 4,
 "nbformat_minor": 5
}
